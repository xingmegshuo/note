{
 "cells": [
  {
   "cell_type": "code",
   "execution_count": 5,
   "metadata": {},
   "outputs": [],
   "source": [
    "import numpy as np\n",
    "\n",
    "\n",
    "data=np.mat([\n",
    "             [1,1,4,19],\n",
    "             [1,2,5,26],\n",
    "             [1,5,1,19],\n",
    "             [1,4,2,20],\n",
    "                ])"
   ]
  },
  {
   "cell_type": "code",
   "execution_count": 7,
   "metadata": {},
   "outputs": [
    {
     "name": "stdout",
     "output_type": "stream",
     "text": [
      "[[ 1.         -1.26491106  0.63245553 19.        ]\n",
      " [ 1.         -0.63245553  1.26491106 26.        ]\n",
      " [ 1.          1.26491106 -1.26491106 19.        ]\n",
      " [ 1.          0.63245553 -0.63245553 20.        ]]\n"
     ]
    }
   ],
   "source": [
    "#对特征值进行缩放 (value-平均数)/标准差\n",
    "def featureScale(data):\n",
    "    data_sacle_2_3 = data[:,1:-1]\n",
    "    avg=np.mean(data_sacle_2_3)#平均值\n",
    "    std=np.std(data_sacle_2_3)#标准差\n",
    "    data_feture_scale=(data_sacle_2_3-avg)/std\n",
    "    return np.hstack((data[:,0],data_feture_scale,data[:,-1]))\n",
    "print(featureScale(data))\n",
    "    "
   ]
  },
  {
   "cell_type": "code",
   "execution_count": null,
   "metadata": {},
   "outputs": [],
   "source": []
  }
 ],
 "metadata": {
  "kernelspec": {
   "display_name": "Python 3",
   "language": "python",
   "name": "python3"
  },
  "language_info": {
   "codemirror_mode": {
    "name": "ipython",
    "version": 3
   },
   "file_extension": ".py",
   "mimetype": "text/x-python",
   "name": "python",
   "nbconvert_exporter": "python",
   "pygments_lexer": "ipython3",
   "version": "3.5.2"
  }
 },
 "nbformat": 4,
 "nbformat_minor": 2
}
