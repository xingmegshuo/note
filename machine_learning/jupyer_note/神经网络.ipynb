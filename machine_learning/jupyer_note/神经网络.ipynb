{
 "cells": [
  {
   "cell_type": "code",
   "execution_count": 93,
   "metadata": {},
   "outputs": [],
   "source": [
    "#基于神经网络的手写识别，识别数字０－９\n",
    "import numpy as np\n",
    "import matplotlib.pyplot as plt\n",
    "import scipy.io as sio\n",
    "import tensorflow as tf"
   ]
  },
  {
   "cell_type": "code",
   "execution_count": 94,
   "metadata": {},
   "outputs": [],
   "source": [
    "def loadData(filename):\n",
    "    data = sio.loadmat(filename)\n",
    "    return data"
   ]
  },
  {
   "cell_type": "code",
   "execution_count": 95,
   "metadata": {},
   "outputs": [],
   "source": [
    "def sigmoid(z):\n",
    "    return 1/(1+np.exp(-z))"
   ]
  },
  {
   "cell_type": "code",
   "execution_count": 96,
   "metadata": {},
   "outputs": [],
   "source": [
    "def sigmoidGradient(z):\n",
    "    return sigmoid(z)*(1-sigmoid(z))"
   ]
  },
  {
   "cell_type": "code",
   "execution_count": 97,
   "metadata": {},
   "outputs": [],
   "source": [
    "def initilizeThetaWeights(L_in,L_out):\n",
    "    epsilon = np.sqrt(6)/np.sqrt(L_in+L_out)\n",
    "    return np.random.rand(L_out,L_in)*2*epsilon-epsilon"
   ]
  },
  {
   "cell_type": "code",
   "execution_count": 98,
   "metadata": {},
   "outputs": [],
   "source": [
    "def nnCostFunction(X,Theta1,Theta2,y,num_labels,m,_lambda):\n",
    "    a1 = np.vstack((np.ones(m),X.T)).T\n",
    "    a2 = sigmoid(np.dot(a1,Theta1.T))\n",
    "    a2 = np.vstack((np.ones(m),a2.T)).T\n",
    "    a3 = sigmoid(np.dot(a2,Theta2.T))\n",
    "    y = np.tile((np.arange(num_labels)+1)%10,(m,1)) == np.tile(y,(1,num_labels))\n",
    "    regTheta1 = Theta1[:,1:]\n",
    "    regTheta2 = Theta2[:,1:]\n",
    "    \n",
    "    J = -np.sum(y*np.log(a3)+(1-y)*np.log(1-a3))/m+_lambda*np.sum(regTheta1*regTheta1)/m/2+_lambda*np.sum(regTheta2*regTheta2)/m/2\n",
    "    \n",
    "    delta2 = np.zeros(Theta1.shape)\n",
    "    delta3 = np.zeros(Theta2.shape)\n",
    "    \n",
    "    for i in range(m):\n",
    "        a1_ = a1[i];a2_=a2[i];a3_=a3[i]\n",
    "        d3 = a3_-y[i]\n",
    "        d2 = np.dot(d3,Theta2)*sigmoidGradient(np.append(1,np.dot(a1_,Theta1.T)))\n",
    "        delta2 = delta2 + np.dot(d2[1:].reshape(-1,1),a1_.reshape(1,-1))\n",
    "        delta3 = delta3 + np.dot(d3.reshape(-1,1),a2_.reshape(1,-1))\n",
    "        Theta1_grad = np.zeros(Theta1.shape)\n",
    "        Theta2_grad = np.zeros(Theta2.shape)\n",
    "        Theta1_grad[:,0] = delta2[:,0]/m\n",
    "        Theta2_grad[:,0] = delta3[:,0]/m\n",
    "        Theta1_grad[:,1:] = delta2[:,1:]/m + _lambda*regTheta1/m\n",
    "        Theta2_grad[:,1:] = delta3[:,1:]/m + _lambda*regTheta2/m\n",
    "    return J,Theta1_grad,Theta2_grad"
   ]
  },
  {
   "cell_type": "code",
   "execution_count": 99,
   "metadata": {},
   "outputs": [],
   "source": [
    "def gradientDescent(Theta1,Theta2,X,y,num_labels,m,_lambda,iter_num,learning_rate):\n",
    "    i = 0\n",
    "    J_list = []\n",
    "    J,Theta1_grad,Theta2_grad = nnCostFunction(X,Theta1,Theta2,y,num_labels,m,_lambda)\n",
    "    while i < iter_num:\n",
    "        Theta1 = Theta1 - learning_rate*Theta1_grad\n",
    "        Theta2 = Theta2 - learning_rate*Theta2_grad\n",
    "        J,Theta1_grad,Theta2_grad = nnCostFunction(X,Theta1,Theta2,y,num_labels,m,_lambda)\n",
    "        J_list.append(J)\n",
    "        i+=1\n",
    "        print('迭代:',i,'->','J:',J)\n",
    "    return J_list\n",
    "        "
   ]
  },
  {
   "cell_type": "code",
   "execution_count": 100,
   "metadata": {},
   "outputs": [],
   "source": [
    "def predict(Theta1,Theta2,X,m):\n",
    "    a1 = np.vstack((np.ones(m),X.T)).T\n",
    "    a2 = sigmoid(np.dot(a1,Theta1.T))\n",
    "    a2 = np.vstack((np.ones(m),a2.T)).T\n",
    "    a3 = sigmoid(np.dot(a2,Theta2.T))\n",
    "    return np.argmax(a3,axis=1)"
   ]
  },
  {
   "cell_type": "code",
   "execution_count": 101,
   "metadata": {},
   "outputs": [
    {
     "name": "stdout",
     "output_type": "stream",
     "text": [
      "(401, 25) (10, 26) (3000, 400)\n",
      "迭代: 1 -> J: 0.39258268719046385\n",
      "迭代: 2 -> J: 0.38172657348681144\n",
      "迭代: 3 -> J: 0.3753078961624206\n",
      "迭代: 4 -> J: 0.3707278871588442\n",
      "迭代: 5 -> J: 0.36715039715537046\n",
      "迭代: 6 -> J: 0.3641951317551498\n",
      "迭代: 7 -> J: 0.3616612280704919\n",
      "迭代: 8 -> J: 0.35943150146939135\n",
      "迭代: 9 -> J: 0.35743229738407983\n",
      "迭代: 10 -> J: 0.35561449900377695\n",
      "迭代: 11 -> J: 0.3539437319768687\n",
      "迭代: 12 -> J: 0.3523949593629182\n",
      "迭代: 13 -> J: 0.3509493302623222\n",
      "迭代: 14 -> J: 0.349592253636778\n",
      "迭代: 15 -> J: 0.34831217167967626\n",
      "迭代: 16 -> J: 0.34709974990848724\n",
      "迭代: 17 -> J: 0.34594732487838037\n",
      "迭代: 18 -> J: 0.3448485166719958\n",
      "迭代: 19 -> J: 0.34379794996119467\n",
      "迭代: 20 -> J: 0.34279104863338644\n",
      "迭代: 21 -> J: 0.34182388149722176\n",
      "迭代: 22 -> J: 0.34089304427839356\n",
      "迭代: 23 -> J: 0.33999556792593477\n",
      "迭代: 24 -> J: 0.3391288463552326\n",
      "迭代: 25 -> J: 0.3382905787914914\n",
      "迭代: 26 -> J: 0.3374787232495938\n",
      "迭代: 27 -> J: 0.3366914586249713\n",
      "迭代: 28 -> J: 0.33592715352583036\n",
      "迭代: 29 -> J: 0.33518434044208734\n",
      "迭代: 30 -> J: 0.3344616941818147\n",
      "迭代: 31 -> J: 0.3337580137513588\n",
      "迭代: 32 -> J: 0.3330722070373311\n",
      "迭代: 33 -> J: 0.3324032777853955\n",
      "迭代: 34 -> J: 0.3317503144747139\n",
      "迭代: 35 -> J: 0.3311124807667596\n",
      "迭代: 36 -> J: 0.3304890072691843\n",
      "迭代: 37 -> J: 0.32987918440396485\n",
      "迭代: 38 -> J: 0.3292823562073992\n",
      "迭代: 39 -> J: 0.3286979149200523\n",
      "迭代: 40 -> J: 0.3281252962492313\n",
      "迭代: 41 -> J: 0.32756397520633457\n",
      "迭代: 42 -> J: 0.327013462437469\n",
      "迭代: 43 -> J: 0.32647330097884636\n",
      "迭代: 44 -> J: 0.3259430633792339\n",
      "迭代: 45 -> J: 0.32542234914062323\n",
      "迭代: 46 -> J: 0.3249107824356471\n",
      "迭代: 47 -> J: 0.3244080100664064\n",
      "迭代: 48 -> J: 0.3239136996344974\n",
      "迭代: 49 -> J: 0.32342753789632744\n",
      "迭代: 50 -> J: 0.32294922928143344\n"
     ]
    },
    {
     "data": {
      "image/png": "[encoded data removed]",
      "text/plain": [
       "<Figure size 432x288 with 1 Axes>"
      ]
     },
     "metadata": {
      "needs_background": "light"
     },
     "output_type": "display_data"
    },
    {
     "name": "stdout",
     "output_type": "stream",
     "text": [
      "[6 6 6 ... 9 9 9]\n",
      "[[6]\n",
      " [6]\n",
      " [6]\n",
      " ...\n",
      " [9]\n",
      " [9]\n",
      " [9]]\n",
      "\n",
      "Training Set Accuracy: 97.400000\n",
      "\n"
     ]
    }
   ],
   "source": [
    "if_use_ex4weight = 1\n",
    "input_layer_size = 401\n",
    "hidden_layer_size = 25\n",
    "num_labels = 10\n",
    "iter_num = 50\n",
    "learning_rate = 2\n",
    "_lambda = 1\n",
    "data = loadData('ex4data1.mat')\n",
    "present = 0.6\n",
    "X_ = data['X']\n",
    "y_ = data['y']%10\n",
    "# print(len(X_)*present)\n",
    "X = X_[:int(len(X_)*present)]\n",
    "y = y_[:len(X)]\n",
    "predict_x = X_[len(X):]\n",
    "predict_y = y_[len(X):]\n",
    "m = X.shape[0]\n",
    "Theta1_L_in = 401\n",
    "Theta1_L_out = 25\n",
    "Theta2_L_in = 26\n",
    "Theta2_L_out = 10\n",
    "if if_use_ex4weight == 0:\n",
    "    Theta1 = initilizeThetaWeights(Theta1_L_in,Theta1_L_out)\n",
    "    Theta2 = initilizeThetaWeights(Theta2_L_in,Theta2_L_out)\n",
    "else:\n",
    "    data_weights = loadData('ex4weights.mat')\n",
    "    Theta1 = data_weights['Theta1']\n",
    "    Theta2 = data_weights['Theta2']\n",
    "print(Theta1.T.shape,Theta2.shape,X.shape)\n",
    "J_list = gradientDescent(Theta1,Theta2,X,y,num_labels,m,_lambda,iter_num,learning_rate)\n",
    "J_list = np.asarray(J_list).reshape(1,iter_num)[0]\n",
    "plt.plot(np.arange(0,iter_num,1),np.array(J_list).reshape(iter_num,1),'-r')\n",
    "plt.show()\n",
    "pred = (predict(Theta1,Theta2,predict_x,predict_x.shape[0])+1)%10\n",
    "print(pred)\n",
    "print(predict_y)\n",
    "print('\\nTraining Set Accuracy: %f\\n'%(np.mean(np.double(pred == predict_y.T)) * 100))\n",
    "\n"
   ]
  },
  {
   "cell_type": "code",
   "execution_count": 102,
   "metadata": {},
   "outputs": [
    {
     "name": "stdout",
     "output_type": "stream",
     "text": [
      "w1: [[-0.8113182   1.4845988   0.06532937 ...  0.32066926  1.132831\n",
      "  -2.2782571 ]\n",
      " [ 0.48281202 -1.3127087   0.35685033 ... -0.7706542  -0.74624157\n",
      "  -0.28195325]\n",
      " [-1.9588155  -0.3376107   1.0301983  ... -0.30744898 -0.7669297\n",
      "  -0.28710833]\n",
      " ...\n",
      " [ 1.0998409   0.03693226  0.44521236 ... -0.03898062  0.29257604\n",
      "  -0.31505573]\n",
      " [-0.798138    1.0684257   1.1696315  ...  0.21108748  0.00749771\n",
      "   0.01269779]\n",
      " [-0.02291953 -0.1323976  -0.22013924 ...  1.0481157  -1.55838\n",
      "   1.8832947 ]]\n",
      "w2: [[-0.8113182 ]\n",
      " [ 1.4845988 ]\n",
      " [ 0.06532937]\n",
      " [-2.4427042 ]\n",
      " [ 0.0992484 ]\n",
      " [ 0.5912243 ]\n",
      " [ 0.59282297]\n",
      " [-2.1229296 ]\n",
      " [-0.72289723]\n",
      " [-0.05627038]\n",
      " [ 0.6435448 ]\n",
      " [-0.26432407]\n",
      " [ 1.8566332 ]\n",
      " [ 0.5678417 ]\n",
      " [-0.3828359 ]\n",
      " [-1.4853433 ]\n",
      " [ 1.2617711 ]\n",
      " [-0.02530608]\n",
      " [-0.2646297 ]\n",
      " [ 1.5328138 ]\n",
      " [-1.7429771 ]\n",
      " [-0.43789294]\n",
      " [-0.56601   ]\n",
      " [ 0.32066926]\n",
      " [ 1.132831  ]\n",
      " [-2.2782571 ]]\n",
      "After 0 training step(s), cross entropy on all data is 0.122805\n",
      "After 1000 training step(s), cross entropy on all data is 0.122805\n",
      "After 2000 training step(s), cross entropy on all data is 0.122805\n",
      "After 3000 training step(s), cross entropy on all data is 0.122805\n",
      "After 4000 training step(s), cross entropy on all data is 0.122805\n",
      "After 5000 training step(s), cross entropy on all data is 0.122805\n",
      "After 6000 training step(s), cross entropy on all data is 0.122805\n",
      "After 7000 training step(s), cross entropy on all data is 0.122805\n",
      "After 8000 training step(s), cross entropy on all data is 0.122805\n",
      "After 9000 training step(s), cross entropy on all data is 0.122805\n",
      "\n",
      "Training Set Accuracy: 0.00\n",
      "\n",
      "\n",
      "\n",
      "w1: [[-0.8113182   1.4845988   0.06532937 ...  0.32066926  1.132831\n",
      "  -2.2782571 ]\n",
      " [ 0.48281202 -1.3127087   0.35685033 ... -0.7706542  -0.74624157\n",
      "  -0.28195325]\n",
      " [-1.9588155  -0.3376107   1.0301983  ... -0.30744898 -0.7669297\n",
      "  -0.28710833]\n",
      " ...\n",
      " [ 1.0998409   0.03693226  0.44521236 ... -0.03898062  0.29257604\n",
      "  -0.31505573]\n",
      " [-0.798138    1.0684257   1.1696315  ...  0.21108748  0.00749771\n",
      "   0.01269779]\n",
      " [-0.02291953 -0.1323976  -0.22013924 ...  1.0481157  -1.55838\n",
      "   1.8832947 ]]\n",
      "w2: [[-0.6051807 ]\n",
      " [ 1.5020797 ]\n",
      " [ 0.06697758]\n",
      " [-2.4383516 ]\n",
      " [ 0.06039352]\n",
      " [ 0.40598813]\n",
      " [ 0.8006379 ]\n",
      " [-2.077082  ]\n",
      " [-0.75737137]\n",
      " [-0.23265076]\n",
      " [ 0.77291036]\n",
      " [-0.05817982]\n",
      " [ 2.0681796 ]\n",
      " [ 0.45419896]\n",
      " [-0.30987054]\n",
      " [-1.6815263 ]\n",
      " [ 1.2391762 ]\n",
      " [ 0.0135504 ]\n",
      " [-0.47582182]\n",
      " [ 1.7393823 ]\n",
      " [-1.7073    ]\n",
      " [-0.6316968 ]\n",
      " [-0.62576234]\n",
      " [ 0.32868856]\n",
      " [ 1.3372    ]\n",
      " [-2.272416  ]]\n",
      "[[1.]\n",
      " [1.]\n",
      " [1.]\n",
      " ...\n",
      " [1.]\n",
      " [1.]\n",
      " [1.]]\n"
     ]
    }
   ],
   "source": [
    "import tensorflow as tf\n",
    "batch_size=10\n",
    "theta1=tf.Variable(tf.random_normal([400,26],stddev=1,seed=1))\n",
    "theta2=tf.Variable(tf.random_normal([26, 1], stddev=1, seed=1))\n",
    "x_a=tf.placeholder(tf.float32,shape=(None,400))\n",
    "y_a=tf.placeholder(tf.float32,shape=(None,1))\n",
    "a=tf.matmul(x_a,theta1)\n",
    "y_n=tf.matmul(a,theta2)\n",
    "prection=tf.nn.tanh(y_n)\n",
    "\n",
    "cross_entropy=-tf.reduce_mean(y_a*tf.log(tf.clip_by_value(y_n,1e-10,1.0)))\n",
    "train_step=tf.train.AdamOptimizer(learning_rate=0.01).minimize(cross_entropy)\n",
    "STEPS = 10000\n",
    "with tf.Session() as sess:\n",
    "    init_op=tf.global_variables_initializer()\n",
    "    sess.run(init_op)\n",
    "    # 输出目前（未经训练）的参数取值。\n",
    "    print(\"w1:\", sess.run(theta1))\n",
    "    print(\"w2:\", sess.run(theta2))\n",
    "#     print(\"\\n\")\n",
    "    for i in range(STEPS):\n",
    "        start = (i * batch_size) % len(X)\n",
    "        end = (i * batch_size) % len(X) + batch_size\n",
    "        sess.run(train_step, feed_dict={x_a: X[start:end], y_a: y[start:end]})\n",
    "        if i % 1000 == 0:\n",
    "            total_cross_enpy = sess.run(cross_entropy, feed_dict={x_a: X, y_a: y})\n",
    "            print(\"After %d training step(s), cross entropy on all data is %g\" % (i, total_cross_entropy))\n",
    "            # 输出训练后的参数取值。tro\n",
    "    prediction_value = sess.run(prection,feed_dict={x_a:predict_x})\n",
    "    print('\\nTraining Set Accuracy: %.2f\\n'%(np.mean(np.double(prediction_value == predict_y)) * 100))\n",
    "    print(\"\\n\")\n",
    "    print(\"w1:\", sess.run(theta1))\n",
    "    print(\"w2:\", sess.run(theta2))\n",
    "    print(prediction_value)"
   ]
  },
  {
   "cell_type": "code",
   "execution_count": 18,
   "metadata": {},
   "outputs": [],
   "source": [
    "import tensorflow as tf\n",
    "import numpy as np\n"
   ]
  },
  {
   "cell_type": "code",
   "execution_count": 47,
   "metadata": {},
   "outputs": [
    {
     "name": "stdout",
     "output_type": "stream",
     "text": [
      "0.0\n"
     ]
    }
   ],
   "source": [
    "data = np.array([[1]])\n",
    "x = tf.placeholder(tf.float32,[1,1])\n",
    "w = tf.Variable(0,dtype=tf.float32)\n",
    "cost = x[0][0]-w**2\n",
    "train = tf.train.GradientDescentOptimizer(0.01).minimize(cost)\n",
    "init = tf.global_variables_initializer()\n",
    "session = tf.Session()\n",
    "session.run(init)\n",
    "# session.run(train)\n",
    "# print(session.run(w))\n",
    "for i in range(1500):\n",
    "    session.run(train,feed_dict={x:data})\n",
    "print(session.run(w))"
   ]
  },
  {
   "cell_type": "code",
   "execution_count": 48,
   "metadata": {},
   "outputs": [
    {
     "name": "stdout",
     "output_type": "stream",
     "text": [
      "[21.0, 7.0]\n"
     ]
    }
   ],
   "source": [
    "input1 = tf.constant(3.0)\n",
    "input2 = tf.constant(2.0)\n",
    "input3 = tf.constant(5.0)\n",
    "intermed = input2+input3\n",
    "mul = intermed * input1\n",
    "result = session.run([mul,intermed])\n",
    "print(result)"
   ]
  },
  {
   "cell_type": "code",
   "execution_count": 147,
   "metadata": {},
   "outputs": [
    {
     "name": "stdout",
     "output_type": "stream",
     "text": [
      "[array([[0.44579133],\n",
      "       [1.0637012 ]], dtype=float32), array([-0.49301356], dtype=float32)]\n",
      "\n",
      "Training Set Accuracy: 95.00\n",
      "\n"
     ]
    }
   ],
   "source": [
    "x_data = np.float32(np.random.rand(100,2))\n",
    "y_data = np.dot(x_data,[[0.1],[0.2]])+0.3\n",
    "y_data[y_data>=0.5]=1\n",
    "y_data[y_data<0.5]=0\n",
    "predict_y=y_data[60:]\n",
    "x = tf.placeholder(tf.float32,shape=(None,2))\n",
    "b = tf.Variable(tf.zeros([1]))\n",
    "w = tf.Variable(tf.random_uniform([2,1],0,0))\n",
    "y = tf.matmul(x,w) +b\n",
    "loss = tf.reduce_mean(tf.square(y-y_data[:60]))\n",
    "optimizer = tf.train.GradientDescentOptimizer(0.5)\n",
    "train = optimizer.minimize(loss)\n",
    "\n",
    "with tf.Session() as sess:\n",
    "    init = tf.initialize_all_variables()\n",
    "    sess.run(init)\n",
    "    for step in range(0,500):\n",
    "        sess.run(train,feed_dict={x:x_data[:60]})  \n",
    "    print(sess.run([w,b]))\n",
    "    predict=sess.run(y,feed_dict={x:x_data[60:]})\n",
    "    predict[predict>=0.5]=1\n",
    "    predict[predict<0.5]=0\n",
    "    print('\\nTraining Set Accuracy: %.2f\\n'%(np.mean(np.double(predict == predict_y)) * 100))\n"
   ]
  },
  {
   "cell_type": "code",
   "execution_count": null,
   "metadata": {},
   "outputs": [],
   "source": []
  }
 ],
 "metadata": {
  "kernelspec": {
   "display_name": "Python 3",
   "language": "python",
   "name": "python3"
  },
  "language_info": {
   "codemirror_mode": {
    "name": "ipython",
    "version": 3
   },
   "file_extension": ".py",
   "mimetype": "text/x-python",
   "name": "python",
   "nbconvert_exporter": "python",
   "pygments_lexer": "ipython3",
   "version": "3.5.2"
  }
 },
 "nbformat": 4,
 "nbformat_minor": 2
}
