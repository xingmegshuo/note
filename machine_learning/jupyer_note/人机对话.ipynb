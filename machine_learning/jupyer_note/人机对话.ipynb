{
 "cells": [
  {
   "cell_type": "code",
   "execution_count": 16,
   "metadata": {
    "scrolled": true
   },
   "outputs": [
    {
     "name": "stdout",
     "output_type": "stream",
     "text": [
      "{'中国', '哪里', '首都'}\n",
      "[1, 0, 1] [1, 1, 1]\n",
      "0.8164965809277259\n"
     ]
    }
   ],
   "source": [
    "list1=['中国','首都']\n",
    "list2=['中国','首都','哪里']\n",
    "def operation(list1,list2):\n",
    "    similary=0\n",
    "    # 第一步列出所有词\n",
    "    union_set = set(list1)|set(list2)\n",
    "    print(union_set)\n",
    "    # 第二步计算词频\n",
    "    a=[list1.count(i) for i in union_set]\n",
    "    b=[list2.count(i) for i in union_set]\n",
    "    print(a,b)\n",
    "    sum =0\n",
    "    squre_a=0\n",
    "    squre_b=0\n",
    "    # 计算相似度 cos= (数量积/(|a|*|b|))\n",
    "    for i in range(0,len(union_set)):\n",
    "        sum += a[i]*b[i]\n",
    "        squre_a += a[i] **2\n",
    "        squre_b += b[i] **2\n",
    "    similary = sum/((squre_a**0.5)*(squre_b**0.5))\n",
    "    print(similary)\n",
    "operation(list1,list2)"
   ]
  },
  {
   "cell_type": "code",
   "execution_count": null,
   "metadata": {},
   "outputs": [],
   "source": []
  },
  {
   "cell_type": "code",
   "execution_count": null,
   "metadata": {},
   "outputs": [],
   "source": []
  }
 ],
 "metadata": {
  "kernelspec": {
   "display_name": "Python 3",
   "language": "python",
   "name": "python3"
  },
  "language_info": {
   "codemirror_mode": {
    "name": "ipython",
    "version": 3
   },
   "file_extension": ".py",
   "mimetype": "text/x-python",
   "name": "python",
   "nbconvert_exporter": "python",
   "pygments_lexer": "ipython3",
   "version": "3.5.2"
  }
 },
 "nbformat": 4,
 "nbformat_minor": 2
}
