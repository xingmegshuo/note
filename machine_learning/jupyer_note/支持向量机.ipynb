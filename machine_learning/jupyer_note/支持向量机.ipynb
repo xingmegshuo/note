{
 "cells": [
  {
   "cell_type": "code",
   "execution_count": 3,
   "metadata": {},
   "outputs": [],
   "source": [
    "import numpy as np\n",
    "import scipy.io as sio\n",
    "import matplotlib.pyplot as plt\n",
    "from sklearn import svm"
   ]
  },
  {
   "cell_type": "code",
   "execution_count": 7,
   "metadata": {
    "scrolled": true
   },
   "outputs": [
    {
     "name": "stdout",
     "output_type": "stream",
     "text": [
      "[[0.107143  0.60307   1.       ]\n",
      " [0.093318  0.649854  1.       ]\n",
      " [0.0979263 0.705409  1.       ]\n",
      " ...\n",
      " [0.975806  0.439474  1.       ]\n",
      " [0.989631  0.425439  1.       ]\n",
      " [0.996544  0.414912  1.       ]]\n"
     ]
    }
   ],
   "source": [
    "def loadData(filename):\n",
    "    data = sio.loadmat(filename)\n",
    "    x= data['X']\n",
    "    Y = data['y'].reshape(-1,1)\n",
    "    data = np.hstack((x,Y))\n",
    "    return data\n",
    "\n"
   ]
  },
  {
   "cell_type": "code",
   "execution_count": null,
   "metadata": {},
   "outputs": [],
   "source": []
  }
 ],
 "metadata": {
  "kernelspec": {
   "display_name": "Python 3",
   "language": "python",
   "name": "python3"
  },
  "language_info": {
   "codemirror_mode": {
    "name": "ipython",
    "version": 3
   },
   "file_extension": ".py",
   "mimetype": "text/x-python",
   "name": "python",
   "nbconvert_exporter": "python",
   "pygments_lexer": "ipython3",
   "version": "3.5.2"
  }
 },
 "nbformat": 4,
 "nbformat_minor": 2
}
