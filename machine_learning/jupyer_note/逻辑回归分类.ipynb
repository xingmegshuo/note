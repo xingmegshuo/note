{
 "cells": [
  {
   "cell_type": "code",
   "execution_count": 73,
   "metadata": {},
   "outputs": [],
   "source": [
    "#sigmoid函数 y=g(theta.T*x)\n",
    "import numpy as np\n",
    "import matplotlib.pyplot as plt\n",
    "finally_value=1e-5\n",
    "#读取数\n",
    "def loadDataset(filename,present):\n",
    "    data=np.loadtxt(filename,delimiter=',')\n",
    "#     np.random.shuffle(data)\n",
    "    m=int(len(data)*present)\n",
    "    x0=np.ones((m,1))\n",
    "    x_0 = np.ones((len(data)-m,1))\n",
    "    x=data[:m,:-1]\n",
    "    predict_x=data[m:,:-1]\n",
    "    Y=data[:m,-1]\n",
    "    predict_y=data[m:,-1]\n",
    "#     print(np.hstack((x_0,predict_x)))\n",
    "    return np.hstack((x0,x)),Y,x,np.hstack((x_0,predict_x)),predict_y\n",
    "        \n",
    "#sigmoid函数 s(x)=1/(1+e)**(-x)\n",
    "def sigmoid(z):\n",
    "    return 1/(1+np.exp(-z))\n",
    "\n",
    "# 代价函数   cost(h(theta)(x),y))=-1/m*(y*log(h(theta)(x))-(1-y)*log(1-h(theta)(x))) h(theta)(x)=theta.T*x\n",
    "def costFunction(theta,X,Y):\n",
    "    s=sigmoid(np.dot(X,theta))\n",
    "    #依据公式可得 -(y.T*log(s)+(1-y).T*log(1-s))/m\n",
    "    s=s.astype(np.float)\n",
    "    s[s==1]=9e-18\n",
    "    s[s==0]=1e-18\n",
    "    j=-(np.dot(Y.T,np.log(s))+np.dot((1-Y).T,np.log(1-s)))/len(Y)#log内不能为0和1\n",
    "    return j[0]\n",
    "\n",
    "\n",
    "# 梯度下降 (theta(x)-y))*x\n",
    "def gradientDescent(theta,X,Y):\n",
    "    s=sigmoid(np.dot(X,theta))\n",
    "    theta_gradient=np.dot(X.T,(s-Y.reshape(len(Y),1)))/len(X)\n",
    "    return theta_gradient\n",
    "\n",
    "def gradient_descent(apha,X,Y):\n",
    "    theta=np.array([-100,1,1]).reshape(X.shape[1],1)\n",
    "    gradient=gradientDescent(theta,X,Y)\n",
    "    cost_list=[]\n",
    "    i=0\n",
    "    while not np.all(np.absolute(gradient) <=finally_value) and i<=5000:\n",
    "        theta=theta-apha*gradient\n",
    "        gradient=gradientDescent(theta,X,Y)\n",
    "        cost_list.append(costFunction(theta,X,Y))\n",
    "        i+=1\n",
    "    return theta,cost_list,i\n",
    "\n",
    "def predict(x,theta):\n",
    "    return np.round(sigmoid(np.dot(x,theta)))"
   ]
  },
  {
   "cell_type": "code",
   "execution_count": 77,
   "metadata": {},
   "outputs": [
    {
     "name": "stdout",
     "output_type": "stream",
     "text": [
      "[[-99.98562154]\n",
      " [  0.82036196]\n",
      " [  0.77843014]]\n"
     ]
    },
    {
     "data": {
      "image/png": "[encoded data removed]",
      "text/plain": [
       "<Figure size 432x288 with 1 Axes>"
      ]
     },
     "metadata": {
      "needs_background": "light"
     },
     "output_type": "display_data"
    },
    {
     "data": {
      "image/png": "[encoded data removed]",
      "text/plain": [
       "<Figure size 720x720 with 1 Axes>"
      ]
     },
     "metadata": {
      "needs_background": "light"
     },
     "output_type": "display_data"
    },
    {
     "name": "stdout",
     "output_type": "stream",
     "text": [
      "Train Accuracy: 80.00\n",
      "\n"
     ]
    }
   ],
   "source": [
    "X,Y,x,predict_x,predict_y=loadDataset('ex2data1.txt',0.95)\n",
    "theta,cost_list,count=gradient_descent(0.001,X,Y)\n",
    "print(theta)\n",
    "pos = np.where(Y == 1)\n",
    "neg = np.where(Y == 0)\n",
    "plt.scatter(x[pos, 0], x[pos, 1], marker='s', c='r')\n",
    "plt.scatter(x[neg, 0], x[neg, 1], marker='x', c='b')\n",
    "plt.show()\n",
    "plt.figure(figsize=(10,10))\n",
    "# ValueError                                \n",
    "plt.plot([i for i in range(100)],[i for i in cost_list[:100]],c='r')\n",
    "plt.show()\n",
    "predict_data = predict(predict_x,theta)\n",
    "# predict_data[predict_data<0.5]=0\n",
    "# predict_data[predict_data>=0.5]=1\n",
    "print('Train Accuracy: %.2f\\n'%(np.mean(np.double(predict_data == predict_y)) * 100))\n"
   ]
  },
  {
   "cell_type": "code",
   "execution_count": null,
   "metadata": {},
   "outputs": [],
   "source": []
  },
  {
   "cell_type": "code",
   "execution_count": null,
   "metadata": {},
   "outputs": [],
   "source": []
  },
  {
   "cell_type": "code",
   "execution_count": null,
   "metadata": {},
   "outputs": [],
   "source": []
  }
 ],
 "metadata": {
  "kernelspec": {
   "display_name": "Python 3",
   "language": "python",
   "name": "python3"
  },
  "language_info": {
   "codemirror_mode": {
    "name": "ipython",
    "version": 3
   },
   "file_extension": ".py",
   "mimetype": "text/x-python",
   "name": "python",
   "nbconvert_exporter": "python",
   "pygments_lexer": "ipython3",
   "version": "3.5.2"
  }
 },
 "nbformat": 4,
 "nbformat_minor": 2
}
