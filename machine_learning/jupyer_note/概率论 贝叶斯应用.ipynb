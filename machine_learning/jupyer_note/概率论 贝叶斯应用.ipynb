{
 "cells": [
  {
   "cell_type": "code",
   "execution_count": 143,
   "metadata": {},
   "outputs": [],
   "source": [
    "import numpy as np\n",
    "import pandas as pd\n",
    "from sklearn.naive_bayes import GaussianNB"
   ]
  },
  {
   "cell_type": "code",
   "execution_count": 144,
   "metadata": {},
   "outputs": [],
   "source": [
    "data=pd.read_excel('iris.xlsx').values\n",
    "data_dict={'Iris-setosa':1,'Iris-versicolor':2,'Iris-virginica':3}"
   ]
  },
  {
   "cell_type": "code",
   "execution_count": 145,
   "metadata": {},
   "outputs": [
    {
     "data": {
      "text/plain": [
       "GaussianNB(priors=None)"
      ]
     },
     "execution_count": 145,
     "metadata": {},
     "output_type": "execute_result"
    }
   ],
   "source": [
    "one_array=np.array(data[0:40])\n",
    "two_array=np.array(data[50:90])\n",
    "three_array=np.array(data[100:140])\n",
    "array_list=[]\n",
    "result_list=[]\n",
    "for i in one_array:\n",
    "    array_list.append(i[0:4])\n",
    "    result_list.append(data_dict.get(i[4]))\n",
    "for i in two_array:\n",
    "    array_list.append(i[0:4])\n",
    "    result_list.append(data_dict.get(i[4]))\n",
    "for i in three_array:\n",
    "    array_list.append(i[0:4])\n",
    "    result_list.append(data_dict.get(i[4]))\n",
    "data_array=np.array(array_list)\n",
    "result_array=np.array(result_list)\n",
    "\n",
    "nb=GaussianNB()\n",
    "nb.fit(data_array,result_array)"
   ]
  },
  {
   "cell_type": "code",
   "execution_count": 146,
   "metadata": {},
   "outputs": [],
   "source": [
    "def predction(test):\n",
    "    demo=np.array([test])\n",
    "    pred = nb.predict(demo)\n",
    "    print('预测是{}'.format([k for k,v in data_dict.items() if v==pred][0]))\n",
    "    return pred\n",
    "def get_accuracy():\n",
    "    count=0\n",
    "    test1_array=data[40:50]\n",
    "    test2_array=data[90:100]\n",
    "    test3_array=data[140:]\n",
    "    for i in test1_array:\n",
    "        print('答案是{}'.format(i[4]))\n",
    "        answer=data_dict.get(i[4])\n",
    "        Q=predction(i[0:4])\n",
    "        if Q==answer:\n",
    "            count+=1\n",
    "            print('right')\n",
    "        else:\n",
    "            print('wrong')\n",
    "           \n",
    "    for i in test2_array:\n",
    "        print('答案是{}'.format(i[4]))\n",
    "        answer=data_dict.get(i[4])\n",
    "        Q=predction(i[0:4])\n",
    "        if Q==answer:\n",
    "            count+=1\n",
    "            print('right')\n",
    "        else:\n",
    "            print('wrong')\n",
    "    for i in test3_array:\n",
    "        print('答案是{}'.format(i[4]))\n",
    "        answer=data_dict.get(i[4])\n",
    "        Q=predction(i[0:4])\n",
    "        if Q==answer:\n",
    "            count+=1\n",
    "            print('right')\n",
    "        else:\n",
    "            print('wrong')\n",
    "    print(count/29*100)\n",
    "    \n",
    "\n",
    "        \n",
    "        \n",
    "    \n",
    "    \n",
    "    \n",
    "    "
   ]
  },
  {
   "cell_type": "code",
   "execution_count": 147,
   "metadata": {},
   "outputs": [
    {
     "name": "stdout",
     "output_type": "stream",
     "text": [
      "答案是Iris-setosa\n",
      "预测是Iris-setosa\n",
      "right\n",
      "答案是Iris-setosa\n",
      "预测是Iris-setosa\n",
      "right\n",
      "答案是Iris-setosa\n",
      "预测是Iris-setosa\n",
      "right\n",
      "答案是Iris-setosa\n",
      "预测是Iris-setosa\n",
      "right\n",
      "答案是Iris-setosa\n",
      "预测是Iris-setosa\n",
      "right\n",
      "答案是Iris-setosa\n",
      "预测是Iris-setosa\n",
      "right\n",
      "答案是Iris-setosa\n",
      "预测是Iris-setosa\n",
      "right\n",
      "答案是Iris-setosa\n",
      "预测是Iris-setosa\n",
      "right\n",
      "答案是Iris-setosa\n",
      "预测是Iris-setosa\n",
      "right\n",
      "答案是Iris-versicolor\n",
      "预测是Iris-versicolor\n",
      "right\n",
      "答案是Iris-versicolor\n",
      "预测是Iris-versicolor\n",
      "right\n",
      "答案是Iris-versicolor\n",
      "预测是Iris-versicolor\n",
      "right\n",
      "答案是Iris-versicolor\n",
      "预测是Iris-versicolor\n",
      "right\n",
      "答案是Iris-versicolor\n",
      "预测是Iris-versicolor\n",
      "right\n",
      "答案是Iris-versicolor\n",
      "预测是Iris-versicolor\n",
      "right\n",
      "答案是Iris-versicolor\n",
      "预测是Iris-versicolor\n",
      "right\n",
      "答案是Iris-versicolor\n",
      "预测是Iris-versicolor\n",
      "right\n",
      "答案是Iris-versicolor\n",
      "预测是Iris-versicolor\n",
      "right\n",
      "答案是Iris-versicolor\n",
      "预测是Iris-versicolor\n",
      "right\n",
      "答案是Iris-virginica\n",
      "预测是Iris-virginica\n",
      "right\n",
      "答案是Iris-virginica\n",
      "预测是Iris-virginica\n",
      "right\n",
      "答案是Iris-virginica\n",
      "预测是Iris-virginica\n",
      "right\n",
      "答案是Iris-virginica\n",
      "预测是Iris-virginica\n",
      "right\n",
      "答案是Iris-virginica\n",
      "预测是Iris-virginica\n",
      "right\n",
      "答案是Iris-virginica\n",
      "预测是Iris-virginica\n",
      "right\n",
      "答案是Iris-virginica\n",
      "预测是Iris-virginica\n",
      "right\n",
      "答案是Iris-virginica\n",
      "预测是Iris-virginica\n",
      "right\n",
      "答案是Iris-virginica\n",
      "预测是Iris-virginica\n",
      "right\n",
      "答案是Iris-virginica\n",
      "预测是Iris-virginica\n",
      "right\n",
      "100.0\n"
     ]
    }
   ],
   "source": [
    "get_accuracy()"
   ]
  },
  {
   "cell_type": "code",
   "execution_count": null,
   "metadata": {},
   "outputs": [],
   "source": []
  },
  {
   "cell_type": "code",
   "execution_count": null,
   "metadata": {},
   "outputs": [],
   "source": []
  }
 ],
 "metadata": {
  "kernelspec": {
   "display_name": "Python 3",
   "language": "python",
   "name": "python3"
  },
  "language_info": {
   "codemirror_mode": {
    "name": "ipython",
    "version": 3
   },
   "file_extension": ".py",
   "mimetype": "text/x-python",
   "name": "python",
   "nbconvert_exporter": "python",
   "pygments_lexer": "ipython3",
   "version": "3.5.2"
  }
 },
 "nbformat": 4,
 "nbformat_minor": 2
}
