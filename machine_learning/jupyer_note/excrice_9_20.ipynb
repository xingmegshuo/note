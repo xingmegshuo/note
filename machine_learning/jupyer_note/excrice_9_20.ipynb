{
 "cells": [
  {
   "cell_type": "code",
   "execution_count": 56,
   "metadata": {},
   "outputs": [
    {
     "name": "stdout",
     "output_type": "stream",
     "text": [
      "(0, 1)\n"
     ]
    }
   ],
   "source": [
    "def twoSum(array,target):\n",
    "    for i in range(0,len(array)):\n",
    "        for b in array:\n",
    "            if array[i]+b==target and i!=array.index(b):\n",
    "                return i,array.index(b)\n",
    "        \n",
    "            \n",
    "print(twoSum([2, 7, 11, 15],9))"
   ]
  },
  {
   "cell_type": "code",
   "execution_count": 92,
   "metadata": {},
   "outputs": [
    {
     "name": "stdout",
     "output_type": "stream",
     "text": [
      "[1, 2, 3, 4]\n",
      "2.5\n"
     ]
    }
   ],
   "source": [
    "class Solution:\n",
    "    def findMedianSortedArrays(self, nums1, nums2):\n",
    "#         new_list=[nums1.append(i) for i in nums2]\n",
    "        for i in nums2:\n",
    "            nums1.append(i)\n",
    "        nums1.sort()\n",
    "        print(nums1)\n",
    "        num=0\n",
    "        if len(nums1) % 2 ==1:\n",
    "            num=nums1[int((len(nums1)-1)/2)]\n",
    "        else:\n",
    "            num=(nums1[int(len(nums1)/2-1)]+nums1[int(len(nums1)/2)])/2\n",
    "        return num\n",
    "    \n",
    "s=Solution()\n",
    "print(s.findMedianSortedArrays([1,2],[3,4]))"
   ]
  },
  {
   "cell_type": "code",
   "execution_count": null,
   "metadata": {},
   "outputs": [],
   "source": [
    "class Solution:\n",
    "    def longestPalindrome(self, s):\n",
    "        \"\"\"\n",
    "        :type s: str\n",
    "        :rtype: str\n",
    "        \"\"\"\n",
    "            "
   ]
  },
  {
   "cell_type": "code",
   "execution_count": 11,
   "metadata": {},
   "outputs": [
    {
     "name": "stdout",
     "output_type": "stream",
     "text": [
      "[2, 4]\n"
     ]
    }
   ],
   "source": [
    "def get_mode(l):\n",
    "    count_dict={i:l.count(i) for i in l}\n",
    "    return [k for k,v in count_dict.items() if v==max(count_dict.values())]\n",
    "print(get_mode([2,2,1,4,4]))"
   ]
  },
  {
   "cell_type": "code",
   "execution_count": null,
   "metadata": {},
   "outputs": [],
   "source": []
  },
  {
   "cell_type": "code",
   "execution_count": null,
   "metadata": {},
   "outputs": [],
   "source": []
  },
  {
   "cell_type": "code",
   "execution_count": null,
   "metadata": {},
   "outputs": [],
   "source": []
  },
  {
   "cell_type": "code",
   "execution_count": null,
   "metadata": {},
   "outputs": [],
   "source": []
  }
 ],
 "metadata": {
  "kernelspec": {
   "display_name": "Python 3",
   "language": "python",
   "name": "python3"
  },
  "language_info": {
   "codemirror_mode": {
    "name": "ipython",
    "version": 3
   },
   "file_extension": ".py",
   "mimetype": "text/x-python",
   "name": "python",
   "nbconvert_exporter": "python",
   "pygments_lexer": "ipython3",
   "version": "3.5.2"
  }
 },
 "nbformat": 4,
 "nbformat_minor": 2
}
