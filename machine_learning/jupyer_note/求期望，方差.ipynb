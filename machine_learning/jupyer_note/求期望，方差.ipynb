{
 "cells": [
  {
   "cell_type": "code",
   "execution_count": 3,
   "metadata": {},
   "outputs": [
    {
     "name": "stdout",
     "output_type": "stream",
     "text": [
      "2.0 0.666666666666667\n"
     ]
    }
   ],
   "source": [
    "def get_EX(l):           #平均数也就是期望值  \n",
    "    return sum(l)/len(l)\n",
    "def get_DX(l):                 #　方差等于每个数平方相加除以数减去期望值的平方\n",
    "    dx=sum([i**2 for i in l])/len(l)\n",
    "    return dx-get_EX(l)**2\n",
    "\n",
    "\n",
    "list1=[1,2,3]\n",
    "print(get_EX(list1),get_DX(list1))"
   ]
  },
  {
   "cell_type": "code",
   "execution_count": 4,
   "metadata": {},
   "outputs": [],
   "source": [
    "import numpy as np"
   ]
  },
  {
   "cell_type": "code",
   "execution_count": 5,
   "metadata": {},
   "outputs": [
    {
     "name": "stdout",
     "output_type": "stream",
     "text": [
      "2.0\n",
      "0.6666666666666666\n"
     ]
    }
   ],
   "source": [
    "list1=[1,2,3]\n",
    "print(np.mean(list1)) #数学期望\n",
    "print(np.var(list1))#方差"
   ]
  },
  {
   "cell_type": "code",
   "execution_count": 9,
   "metadata": {},
   "outputs": [
    {
     "name": "stdout",
     "output_type": "stream",
     "text": [
      "18.700000000000003\n",
      "5.059999999999889\n",
      "40.5\n",
      "5.655555555555566\n"
     ]
    }
   ],
   "source": [
    "list_x=[15.4,17.5,18.9,20.0,21.0,22.8,15.8,17.8,19.1]\n",
    "list_y=[44.0,39.2,41.8,38.9,37.4,38.1,44.6,40.7,39.8]\n",
    "print(get_EX(list_x))\n",
    "print(get_DX(list_x))\n",
    "print(get_EX(list_y))\n",
    "print(get_DX(list_y))"
   ]
  },
  {
   "cell_type": "code",
   "execution_count": null,
   "metadata": {},
   "outputs": [],
   "source": []
  }
 ],
 "metadata": {
  "kernelspec": {
   "display_name": "Python 3",
   "language": "python",
   "name": "python3"
  },
  "language_info": {
   "codemirror_mode": {
    "name": "ipython",
    "version": 3
   },
   "file_extension": ".py",
   "mimetype": "text/x-python",
   "name": "python",
   "nbconvert_exporter": "python",
   "pygments_lexer": "ipython3",
   "version": "3.5.2"
  }
 },
 "nbformat": 4,
 "nbformat_minor": 2
}
