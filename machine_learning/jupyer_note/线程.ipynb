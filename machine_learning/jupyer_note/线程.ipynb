{
 "cells": [
  {
   "cell_type": "code",
   "execution_count": 4,
   "metadata": {},
   "outputs": [
    {
     "ename": "AttributeError",
     "evalue": "module 'threading' has no attribute 'Condtion'",
     "output_type": "error",
     "traceback": [
      "\u001b[0;31m---------------------------------------------------------------------------\u001b[0m",
      "\u001b[0;31mAttributeError\u001b[0m                            Traceback (most recent call last)",
      "\u001b[0;32m<ipython-input-4-26091ea46bb0>\u001b[0m in \u001b[0;36m<module>\u001b[0;34m()\u001b[0m\n\u001b[1;32m      1\u001b[0m \u001b[0;31m#使用如下模块创建线程\u001b[0m\u001b[0;34m\u001b[0m\u001b[0;34m\u001b[0m\u001b[0m\n\u001b[1;32m      2\u001b[0m \u001b[0;32mimport\u001b[0m \u001b[0mthreading\u001b[0m\u001b[0;34m\u001b[0m\u001b[0m\n\u001b[0;32m----> 3\u001b[0;31m \u001b[0mcon\u001b[0m\u001b[0;34m=\u001b[0m\u001b[0mthreading\u001b[0m\u001b[0;34m.\u001b[0m\u001b[0mCondtion\u001b[0m\u001b[0;34m(\u001b[0m\u001b[0;34m)\u001b[0m\u001b[0;34m\u001b[0m\u001b[0m\n\u001b[0m\u001b[1;32m      4\u001b[0m \u001b[0;34m\u001b[0m\u001b[0m\n\u001b[1;32m      5\u001b[0m \u001b[0;32mdef\u001b[0m \u001b[0mrun1\u001b[0m\u001b[0;34m(\u001b[0m\u001b[0;34m)\u001b[0m\u001b[0;34m:\u001b[0m\u001b[0;34m\u001b[0m\u001b[0m\n",
      "\u001b[0;31mAttributeError\u001b[0m: module 'threading' has no attribute 'Condtion'"
     ]
    }
   ],
   "source": [
    "#使用如下模块创建线程\n",
    "import threading\n",
    "con=threading.Condtion()\n",
    "\n",
    "def run1():\n",
    "    con.acquire()\n",
    "    for i in range(0,10,2):\n",
    "        print(i)\n",
    "        con.wait()\n",
    "        con.notify()\n",
    "        print(threading.currentThread().name)\n",
    "    con.release()\n",
    "def run2():\n",
    "    con.acquire()\n",
    "    for i in range(1,10,2):\n",
    "        print(i)\n",
    "        con.notify()\n",
    "        con.wait()\n",
    "        print(threading.currentThread().name)\n",
    "    con.release()\n",
    "        \n",
    "if __name__=='__main__':\n",
    "    thread1=threading.Thread(1,target=run1)\n",
    "    thread2=threading.Thread(1,target=run2)\n",
    "    \n",
    "    thread1.start()\n",
    "    thread2.start()\n",
    "    "
   ]
  },
  {
   "cell_type": "code",
   "execution_count": null,
   "metadata": {},
   "outputs": [],
   "source": []
  }
 ],
 "metadata": {
  "kernelspec": {
   "display_name": "Python 3",
   "language": "python",
   "name": "python3"
  },
  "language_info": {
   "codemirror_mode": {
    "name": "ipython",
    "version": 3
   },
   "file_extension": ".py",
   "mimetype": "text/x-python",
   "name": "python",
   "nbconvert_exporter": "python",
   "pygments_lexer": "ipython3",
   "version": "3.5.2"
  }
 },
 "nbformat": 4,
 "nbformat_minor": 2
}
