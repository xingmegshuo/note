{
 "cells": [
  {
   "cell_type": "code",
   "execution_count": 219,
   "metadata": {},
   "outputs": [],
   "source": [
    "def fetureSale(data):\n",
    "    data=np.mat(data)\n",
    "    data_sale=data[:,:-1]\n",
    "    avg=np.mean(data_sale,axis=0)\n",
    "    std=np.std(data_sale,axis=0)\n",
    "    data_feture_sale=(data_sale-avg)/std\n",
    "    return np.hstack((data_feture_sale,data[:,-1])),avg,std\n",
    "    "
   ]
  },
  {
   "cell_type": "code",
   "execution_count": 220,
   "metadata": {},
   "outputs": [],
   "source": [
    "#预测房子价格\n",
    "import numpy as np #导入python 科学包来进行数学计算，预测房子价格\n",
    "import matplotlib.pyplot as plt\n",
    "data= np.loadtxt('ex1data2.txt',delimiter=',') #读取数据\n",
    "sale_data,avg,std=fetureSale(data)\n",
    "m=len(sale_data)\n",
    "X0=np.ones((m,1))\n",
    "# X1=sale_data[:,0].reshape(m,1)\n",
    "# X2=sale_data[:,1].reshape(m,1)\n",
    "X=np.mat(np.hstack((X0,sale_data[:,:-1])))\n",
    "Y=sale_data[:,-1].reshape(m,1)\n",
    "Y=np.mat(Y)\n",
    "finally_value=10**-5\n",
    "alpha=0.01"
   ]
  },
  {
   "cell_type": "code",
   "execution_count": 221,
   "metadata": {},
   "outputs": [],
   "source": [
    "def theta_gradient(theta,X,Y):\n",
    "    error=X*theta-Y\n",
    "    gradient=(1/m)*X.T*error\n",
    "    return gradient"
   ]
  },
  {
   "cell_type": "code",
   "execution_count": 222,
   "metadata": {},
   "outputs": [],
   "source": [
    "def gradient_descent(alpha,X,Y):\n",
    "    theta=np.mat([[1],\n",
    "                 [1],\n",
    "                 [1]])\n",
    "    gradient=theta_gradient(theta,X,Y)\n",
    "    while not np.all(np.absolute(gradient)<=finally_value):\n",
    "        theta=theta-alpha*gradient\n",
    "        gradient=theta_gradient(theta,X,Y)\n",
    "    return theta"
   ]
  },
  {
   "cell_type": "code",
   "execution_count": 223,
   "metadata": {},
   "outputs": [
    {
     "name": "stdout",
     "output_type": "stream",
     "text": [
      "[[340412.65957447]\n",
      " [109447.79644695]\n",
      " [ -6578.35483147]]\n"
     ]
    }
   ],
   "source": [
    "theta=gradient_descent(alpha,X,Y)\n",
    "print(theta)"
   ]
  },
  {
   "cell_type": "markdown",
   "metadata": {},
   "source": [
    "x1=1650\n",
    "x2=3\n",
    "    "
   ]
  },
  {
   "cell_type": "code",
   "execution_count": 231,
   "metadata": {},
   "outputs": [
    {
     "name": "stdout",
     "output_type": "stream",
     "text": [
      "[[1650    3]]\n",
      "293081.4643398835\n"
     ]
    }
   ],
   "source": [
    "predction_data=np.mat(np.array([1650,3]).reshape(1,2))\n",
    "print(predction_data)\n",
    "s=(predction_data-avg)/std\n",
    "a=s.reshape(2,1)\n",
    "x1=a[0]\n",
    "x2=a[1]\n",
    "y=theta[0]+theta[1]*x1+theta[2]*x2\n",
    "price=y.tolist()\n",
    "print(price[0][0])"
   ]
  },
  {
   "cell_type": "code",
   "execution_count": null,
   "metadata": {},
   "outputs": [],
   "source": []
  }
 ],
 "metadata": {
  "kernelspec": {
   "display_name": "Python 3",
   "language": "python",
   "name": "python3"
  },
  "language_info": {
   "codemirror_mode": {
    "name": "ipython",
    "version": 3
   },
   "file_extension": ".py",
   "mimetype": "text/x-python",
   "name": "python",
   "nbconvert_exporter": "python",
   "pygments_lexer": "ipython3",
   "version": "3.5.2"
  }
 },
 "nbformat": 4,
 "nbformat_minor": 2
}
